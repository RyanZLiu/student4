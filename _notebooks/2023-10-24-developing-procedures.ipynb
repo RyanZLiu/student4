{
 "cells": [
  {
   "cell_type": "markdown",
   "metadata": {},
   "source": [
    "---\n",
    "layout: post\n",
    "title: Developing Procedures\n",
    "description: College Board 3.12 and 3.13\n",
    "toc: true\n",
    "comments: true\n",
    "type: hacks\n",
    "courses: { compsci: {week: 10} }\n",
    "---"
   ]
  },
  {
   "cell_type": "markdown",
   "metadata": {},
   "source": [
    "## What is a procedure?\n",
    "A procedure is a named group of programming instructions with a purpose and is called to perform a task based on the commands. \n",
    "\n",
    "\n",
    "It is extremely important to name the procedure something that describes the purpose, method, or function because it makes it easier for others to read your code and for yourself when you revisit old code. Additionally, when there is an effefctively named procedure, it is much simpler to correct bugs and errors."
   ]
  },
  {
   "cell_type": "markdown",
   "metadata": {},
   "source": [
    "### Which code is better?\n",
    "<img src=\"https://media.discordapp.net//attachments/909575347773775953/1166199627083698217/namingprocedures.png?ex=65499f0a&is=65372a0a&hm=6a7d0bf546b51e54837e3cd8d5993063d9ab28ac4f19bd6e49b6a540424a30a5&\">"
   ]
  },
  {
   "cell_type": "markdown",
   "metadata": {},
   "source": [
    "### Hack 1: Naming Procedures\n",
    "Rename the procedure below with a name that better describes the purpose of the procedure. \n",
    "\n",
    "The procedure is currently just called \"procedure.\" It compares the current grade with the existing quiz grade and replaces the original score if the current is higher."
   ]
  },
  {
   "cell_type": "code",
   "execution_count": 2,
   "metadata": {},
   "outputs": [
    {
     "name": "stdout",
     "output_type": "stream",
     "text": [
      "Old quiz grade: 85\n",
      "New quiz grade: 90.0\n"
     ]
    }
   ],
   "source": [
    "def replacementgrade(quiz_grade, current_points, total_points):\n",
    "    # calculate current grade\n",
    "    current_grade = (current_points / total_points) * 100\n",
    "\n",
    "    if current_grade > quiz_grade:\n",
    "        quiz_grade = current_grade\n",
    "\n",
    "    return quiz_grade\n",
    "\n",
    "quiz_grade = 85  # Initial quiz grade\n",
    "current_points = 90  # Current points earned\n",
    "total_points = 100  # Total points for the quiz\n",
    "\n",
    "new_quiz_grade = replacementgrade(quiz_grade, current_points, total_points)\n",
    "\n",
    "print(f\"Old quiz grade: {quiz_grade}\")\n",
    "print(f\"New quiz grade: {new_quiz_grade}\")\n"
   ]
  },
  {
   "cell_type": "markdown",
   "metadata": {},
   "source": [
    "## Function Parameters\n",
    "A function can have one or more parameters that can be passed into the function as local variables to use in the procedural function. The variables that can be passed in the function are called parameters. The data passed in when the function is called are called arguments.\n",
    "\n",
    "\n",
    "Parameters: input values of a procedure\n",
    "\n",
    "\n",
    "Arguments: specify the parameter values when a procedure is called"
   ]
  },
  {
   "cell_type": "code",
   "execution_count": 3,
   "metadata": {},
   "outputs": [
    {
     "name": "stdout",
     "output_type": "stream",
     "text": [
      "length: 3\n",
      "width: 4\n",
      "6.0\n",
      "length: 6\n",
      "width: 8\n",
      "24.0\n",
      "length: 12\n",
      "width: 89\n",
      "534.0\n"
     ]
    }
   ],
   "source": [
    "def triangle_area(length, width): # parameters passed in two variables: length and width, returns area\n",
    "    area = 1/2 * length * width # calculates area from the length and width\n",
    "    print(\"length:\", length)\n",
    "    print(\"width:\", width)\n",
    "    return area # returns area\n",
    "\n",
    "# examples\n",
    "print(triangle_area(3, 4)) # the arguments here are 3 and 4, which becomes the parameters length and width respectively\n",
    "print(triangle_area(6, 8))\n",
    "print(triangle_area(12, 89))"
   ]
  },
  {
   "cell_type": "markdown",
   "metadata": {},
   "source": [
    "## Procedure Algorithm / How Procedures Work\n",
    "Remember that procedures are essentially a set of programming instructions, or lines of code, that accomplish a goal. When executed, each line of code is executed in order (step after step after step) to get to the goal."
   ]
  },
  {
   "cell_type": "markdown",
   "metadata": {},
   "source": [
    "### Regular code/Python"
   ]
  },
  {
   "cell_type": "code",
   "execution_count": 4,
   "metadata": {},
   "outputs": [
    {
     "name": "stdout",
     "output_type": "stream",
     "text": [
      "15.0\n"
     ]
    }
   ],
   "source": [
    "# Procedure called \"applyTax\" that applies a percent tax to a price\n",
    "def applyTax(price, percentTax): # When writing a procedure, first decide what parameters you will need to accomplish your goal\n",
    "    # Step 1: Calculate the amount taxed\n",
    "    taxAmount = price * percentTax/100\n",
    "\n",
    "    # Step 2: Add the amount taxed to the price to get the end amount\n",
    "    endAmount = price + taxAmount\n",
    "\n",
    "    return endAmount\n",
    "\n",
    "# Use procedure to apply a 50% tax to a price of $10\n",
    "cost = applyTax(10, 50)\n",
    "print(cost)"
   ]
  },
  {
   "cell_type": "markdown",
   "metadata": {},
   "source": [
    "### CollegeBoard Pseudo-Code\n",
    "- Note that the pseudo-code below has the exact same purpose as the actual code above. Ignore the breaks and spaces since they are used for formatting.\n",
    "> Differences between prseudo-code and Python:\n",
    "- Pseudo-code uses \"PROCEDURE\" instead of \"def\"\n",
    "- Pseudo-code uses \"<--\" instead of \"=\"\n",
    "- Pseudo-code uses \"{}\" instead of \":\" to mark where a procedure starts and ends\n",
    "<br>\n",
    "\n",
    "> Pseudo-code example <br>\n",
    "\n",
    "PROCEDURE applyTax (price, percentTax) <br>\n",
    "{ <br>\n",
    "&nbsp;&nbsp;&nbsp;&nbsp;taxAmount <-- price * percentTax/100 <br>\n",
    "&nbsp;&nbsp;&nbsp;&nbsp;endAmount <-- price + taxAmount <br>\n",
    "&nbsp;&nbsp;&nbsp;&nbsp;return endAmount <br>\n",
    "}"
   ]
  },
  {
   "cell_type": "markdown",
   "metadata": {},
   "source": [
    "### Hack 2: Robot Pseudo-Code\n",
    "<img src=\"https://media.discordapp.net/attachments/1143438030749847604/1165903186473783317/image.png?ex=65488af5&is=653615f5&hm=349a4cfef60546b6f85e59a2448ac85ed4fd0181d63f70456904909e46401d74&=\">\n",
    "\n",
    "> Instructions:\n",
    "- The blue triangle represents a robot that moves in a grid of squares. The tip of the triangle indicates where the robot is facing.\n",
    "- Write a procedure that allows the robot to make a detour around a block by moving to the left.\n",
    "\n",
    "> Commands\n",
    "- MOVE_FORWARD() - Moves the robot forward one square\n",
    "- MOVE_BACKWARD() - Moves the robot backward one square\n",
    "- ROTATE_LEFT() - Rotates the robot 90 degrees left\n",
    "- ROTATE_RIGHT() - Rotates the robot 90 degrees right"
   ]
  },
  {
   "cell_type": "markdown",
   "metadata": {},
   "source": [
    "> Your code here:\n"
   ]
  },
  {
   "cell_type": "code",
   "execution_count": 1,
   "metadata": {},
   "outputs": [
    {
     "ename": "SyntaxError",
     "evalue": "invalid syntax (1102689604.py, line 1)",
     "output_type": "error",
     "traceback": [
      "\u001b[0;36m  File \u001b[0;32m\"/tmp/ipykernel_638/1102689604.py\"\u001b[0;36m, line \u001b[0;32m1\u001b[0m\n\u001b[0;31m    PROCEDURE rotate\u001b[0m\n\u001b[0m              ^\u001b[0m\n\u001b[0;31mSyntaxError\u001b[0m\u001b[0;31m:\u001b[0m invalid syntax\n"
     ]
    }
   ],
   "source": [
    "PROCEDURE rotate\n",
    "{\n",
    "    ROTATE_LEFT()\n",
    "    MOVE_FORWARD()\n",
    "    ROTATE_RIGHT()\n",
    "    MOVE_FORWARD()\n",
    "    MOVE_FORWARD()\n",
    "    ROTATE_RIGHT()\n",
    "    MOVE_FORWARD\n",
    "}"
   ]
  },
  {
   "cell_type": "markdown",
   "metadata": {},
   "source": [
    "## Procedure Return Values\n",
    "When a procedure is run, it executes a series of calculations or commands and at some point and needs to provide a useful result. The return statement is what allows us to return a useful value back to the calling code. The returns statement can return various types of values such as booleans, integers, strings, etc."
   ]
  },
  {
   "cell_type": "markdown",
   "metadata": {},
   "source": [
    "## Procedure Calls\n",
    "Calling: This involves specifying the function name followed by parentheses, and passing any required arguments inside the parentheses.\n",
    "\n",
    "\n",
    "When a function is called, the program control jumps to the function definition, and the statements inside the function are executed.\n",
    "After the function completes its task, the control returns to the point where the function was called."
   ]
  },
  {
   "cell_type": "markdown",
   "metadata": {},
   "source": [
    "### Hack 3: Create and Call a Procedure\n",
    "Define a function named calculate_grade that takes a student's score as a parameter and returns 'Pass' if the score is 50 or more, and 'Fail' otherwise."
   ]
  },
  {
   "cell_type": "code",
   "execution_count": 10,
   "metadata": {},
   "outputs": [
    {
     "name": "stdout",
     "output_type": "stream",
     "text": [
      "pass\n"
     ]
    }
   ],
   "source": [
    "# your code here\n",
    "def calculate_grade(score):\n",
    "    if int(score)>=50:\n",
    "        print(\"pass\")\n",
    "    else:\n",
    "        print(\"Fail\")\n",
    "\n",
    "score = input(\"score?\")\n",
    "grade = calculate_grade(int(score))"
   ]
  },
  {
   "cell_type": "markdown",
   "metadata": {},
   "source": [
    "# Homework\n",
    "## Instructions\n",
    "There are two total problems:\n",
    "1.  An easy regular code (Python) problem\n",
    "2.  A medium pseudo-code problem\n",
    "3. A hard regular code (Python) problem\n",
    "\n",
    "\n",
    "Completing question 1 and 2 gets you 0.9/1 if you do it correctly. Completing/attempting question 3, adding creativity, and adding good comments will potentially raise you above 0.9."
   ]
  },
  {
   "cell_type": "markdown",
   "metadata": {},
   "source": [
    "### Question 1\n",
    "Write a procedure to apply a percent discount to a set price. See the example about applying tax if you're stuck."
   ]
  },
  {
   "cell_type": "code",
   "execution_count": 2,
   "metadata": {},
   "outputs": [
    {
     "name": "stdout",
     "output_type": "stream",
     "text": [
      "Price: $100\n",
      "Discount: 5%\n",
      "95.0\n"
     ]
    }
   ],
   "source": [
    "# your code here\n",
    "def apply_discount(price, discount): #applying discount procedure\n",
    "    total_cost = (1 - discount/100) * price #calculations that apply the discount percentage to price\n",
    "    return total_cost #returns the final cost of the item which includes the applied discount\n",
    "\n",
    "#user input - price & discount percentage\n",
    "price = int(input(\"What is the price of the item in dollars?\"))\n",
    "discount = int(input(\"What is the discount percentage?\"))\n",
    "\n",
    "#output\n",
    "final_price = apply_discount(price, discount)\n",
    "print(\"Price: $\"+ str(price))\n",
    "print(\"Discount: \"+ str(discount) + \"%\")\n",
    "print(final_price)\n"
   ]
  },
  {
   "cell_type": "markdown",
   "metadata": {},
   "source": [
    "### Question 2\n",
    "Create your own robot problem! Include a picture with a square grid to represent the map and triangle to represent the robot. Add a flag to a square to represent the end-point and a shaded-in block to represent a detour. Write a procedure in pseudo-code to move the robot from the start, past the detour, and to the end point."
   ]
  },
  {
   "cell_type": "markdown",
   "metadata": {},
   "source": [
    "Add your image here by adding the link between the \"\" and removing the comment formatting:\n",
    "\n",
    "<img src=\"data:image/png;base64,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\">"
   ]
  },
  {
   "cell_type": "code",
   "execution_count": null,
   "metadata": {},
   "outputs": [],
   "source": [
    "## Commands\n",
    "# MOVE_FORWARD() - Moves the robot forward one square\n",
    "# MOVE_BACKWARD() - Moves the robot backward one square\n",
    "# ROTATE_LEFT() - Rotates the robot 90 degrees left\n",
    "# ROTATE_RIGHT() - Rotates the robot 90 degrees right\n",
    "\n",
    "# Objective is to get the arrow to the pirate flag by going around the detours(black boxes)\n",
    "# Point of the arrow is the direction that it is facing\n",
    "\n",
    "PROCEDURE flag\n",
    "{\n",
    "    ROTATE_RIGHT()\n",
    "    MOVE_FORWARD()\n",
    "    MOVE_FORWARD()\n",
    "    ROTATE_RIGHT()\n",
    "    MOVE_FORWARD()\n",
    "    MOVE_FORWARD()\n",
    "    ROTATE_LEFT()\n",
    "    MOVE_FORWARD()\n",
    "    ROTATE_RIGHT()\n",
    "    MOVE_FORWARD()\n",
    "    MOVE_FORWARD()\n",
    "    ROTATE_RIGHT()\n",
    "    MOVE_FORWARD()\n",
    "}"
   ]
  },
  {
   "cell_type": "markdown",
   "metadata": {},
   "source": [
    "### Question 3\n",
    "Create a program that asks for user input of an integer *n*, and return an array that contains all the prime numbers up to the number *n* (inclusive). Remember to use multiple different functions to better organize the code and increase efficiency."
   ]
  },
  {
   "cell_type": "code",
   "execution_count": 1,
   "metadata": {},
   "outputs": [
    {
     "name": "stdout",
     "output_type": "stream",
     "text": [
      "[2, 3, 5]\n",
      "[2, 3, 5, 7, 11]\n",
      "[2, 3, 5, 7, 11, 13, 17, 19, 23, 29, 31]\n"
     ]
    }
   ],
   "source": [
    "def primes(n):\n",
    "    # An empty list to store prime numbers\n",
    "    primelist = []\n",
    "\n",
    "    # Iterates through numbers from 2 to n (inclusive) because 2 is the first prime number\n",
    "    for i in range(2, n+1):\n",
    "        # Assumes the number is prime until proven otherwise\n",
    "        is_prime = True\n",
    "\n",
    "        # Check for factors from 2 to the square root of i\n",
    "        for i2 in range(2, int(i**0.5) + 1):\n",
    "            # If i is divisible by i2, it is not a prime number\n",
    "            if i % i2 == 0:\n",
    "                is_prime = False # If the number is not prime, change is_prime to false\n",
    "                break  # Exit the loop if a factor is found\n",
    "\n",
    "        # If no factors were found, i is a prime number\n",
    "        if is_prime: #so if is_prime is still true, that means that the number is prime\n",
    "            # adding the prime number to the list\n",
    "            primelist.append(i)\n",
    "\n",
    "    # Return the list of prime numbers up to n\n",
    "    return primelist\n",
    "\n",
    "\n",
    "\n",
    "# tests\n",
    "print(primes(5))\n",
    "print(primes(12))\n",
    "print(primes(35))"
   ]
  }
 ],
 "metadata": {
  "kernelspec": {
   "display_name": "Python 3",
   "language": "python",
   "name": "python3"
  },
  "language_info": {
   "codemirror_mode": {
    "name": "ipython",
    "version": 3
   },
   "file_extension": ".py",
   "mimetype": "text/x-python",
   "name": "python",
   "nbconvert_exporter": "python",
   "pygments_lexer": "ipython3",
   "version": "3.10.12"
  }
 },
 "nbformat": 4,
 "nbformat_minor": 2
}
