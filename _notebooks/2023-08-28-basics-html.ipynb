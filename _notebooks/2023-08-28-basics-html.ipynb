{
 "cells": [
  {
   "cell_type": "markdown",
   "metadata": {},
   "source": [
    "---\n",
    "toc: true\n",
    "comments: false\n",
    "layout: post\n",
    "title: HTML hack\n",
    "description: HTML hack for JS Basics Test\n",
    "type: hacks\n",
    "courses: { compsci: {week: 6} }\n",
    "---"
   ]
  },
  {
   "cell_type": "raw",
   "metadata": {},
   "source": [
    "{% include nav_basics.html %}\n"
   ]
  },
  {
   "cell_type": "code",
   "execution_count": 2,
   "metadata": {
    "vscode": {
     "languageId": "html"
    }
   },
   "outputs": [
    {
     "data": {
      "text/html": [
       "\n",
       "<div>\n",
       "    <h3>Novak Djokovic</h3>\n",
       "    <p>Novak Djokovic (born 22 May 1987) is a Serbian professional tennis player who is currently ranked world No. 1 in singles by the Association of Tennis Professionals (ATP). Djokovic has been ranked No. 1 for a record total of 392 weeks in a record 12 different years, and finished as the year-end No. 1 a record seven times. Djokovic has won an all-time record 24 Grand Slam men's singles titles, including a record ten Australian Open titles. Overall, he has won 96 singles titles, including a record 69 Big Titles (24 majors, a record 39 Masters, and a joint-record six ATP Finals). Djokovic is the only man in tennis history to be the reigning champion of all four majors at once across three different surfaces. In singles, he is the only man to achieve a triple Career Grand Slam, and the only player to complete a career Golden Masters, a feat he has achieved twice.</p>\n",
       "    <button onclick=\"goToDjokovicWebsite()\">Go to Djokovic Website</button>\n",
       "    <script>\n",
       "        function goToDjokovicWebsite() {\n",
       "            // Redirect to the Djokovic Website\n",
       "            window.location.href = \"https://novakdjokovic.com/en/\";\n",
       "        }\n",
       "</script>\n",
       "<br>\n",
       "    <a href=\"https://en.wikipedia.org/wiki/Novak_Djokovic\" > Djokovic Wikipedia </a>\n",
       "    <img alt=\"NovakDjokovic\" src=\"https://talksport.com/wp-content/uploads/sites/5/2023/09/novak-djokovic-serbia-celebrates-victory-843511995.jpg?strip=all&quality=100&w=1780&h=1187&crop=1\" width=\"1780\" height=\"1187\">\n",
       "<div>\n",
       "\n",
       "\n",
       "<div>\n",
       "    <h3>Roger Federer</h3>\n",
       "    <p>Roger Federer (born 8 August 1981) is a Swiss former professional tennis player. Federer was ranked world No. 1 in singles by the Association of Tennis Professionals (ATP) for 310 weeks, including a record 237 consecutive weeks, and finished as the year-end No. 1 five times. He won 103 singles titles on the ATP Tour, the second most of all time, including 20 major men's singles titles, a record eight men's singles Wimbledon titles, an Open Era joint-record five men's singles US Open titles, and a joint-record six year-end championships.</p>\n",
       "    <a href=\"https://en.wikipedia.org/wiki/Roger_Federer\" >Federer Wikipedia</a>\n",
       "    <br>\n",
       "    <a href=\"https://www.rogerfederer.com/\">Federer's Website</a>\n",
       "    <img alt=\"RogerFederer\" src=\"https://i.cbc.ca/1.6055365.1622992427!/fileImage/httpImage/federer-roger-210605-1180.jpg\" width=\"1180\" height=\"664\">\n",
       "<div>\n",
       "\n",
       "\n",
       "\n"
      ],
      "text/plain": [
       "<IPython.core.display.HTML object>"
      ]
     },
     "metadata": {},
     "output_type": "display_data"
    }
   ],
   "source": [
    "%%html\n",
    "\n",
    "<div>\n",
    "    <h3>Novak Djokovic</h3>\n",
    "    <p>Novak Djokovic (born 22 May 1987) is a Serbian professional tennis player who is currently ranked world No. 1 in singles by the Association of Tennis Professionals (ATP). Djokovic has been ranked No. 1 for a record total of 392 weeks in a record 12 different years, and finished as the year-end No. 1 a record seven times. Djokovic has won an all-time record 24 Grand Slam men's singles titles, including a record ten Australian Open titles. Overall, he has won 96 singles titles, including a record 69 Big Titles (24 majors, a record 39 Masters, and a joint-record six ATP Finals). Djokovic is the only man in tennis history to be the reigning champion of all four majors at once across three different surfaces. In singles, he is the only man to achieve a triple Career Grand Slam, and the only player to complete a career Golden Masters, a feat he has achieved twice.</p>\n",
    "    <button onclick=\"goToDjokovicWebsite()\">Go to Djokovic Website</button>\n",
    "    <script>\n",
    "        function goToDjokovicWebsite() {\n",
    "            // Redirect to the Djokovic Website\n",
    "            window.location.href = \"https://novakdjokovic.com/en/\";\n",
    "        }\n",
    "</script>\n",
    "<br>\n",
    "    <a href=\"https://en.wikipedia.org/wiki/Novak_Djokovic\" > Djokovic Wikipedia </a>\n",
    "    <img alt=\"NovakDjokovic\" src=\"https://talksport.com/wp-content/uploads/sites/5/2023/09/novak-djokovic-serbia-celebrates-victory-843511995.jpg?strip=all&quality=100&w=1780&h=1187&crop=1\" width=\"1780\" height=\"1187\">\n",
    "<div>\n",
    "\n",
    "\n",
    "<div>\n",
    "    <h3>Roger Federer</h3>\n",
    "    <p>Roger Federer (born 8 August 1981) is a Swiss former professional tennis player. Federer was ranked world No. 1 in singles by the Association of Tennis Professionals (ATP) for 310 weeks, including a record 237 consecutive weeks, and finished as the year-end No. 1 five times. He won 103 singles titles on the ATP Tour, the second most of all time, including 20 major men's singles titles, a record eight men's singles Wimbledon titles, an Open Era joint-record five men's singles US Open titles, and a joint-record six year-end championships.</p>\n",
    "    <a href=\"https://en.wikipedia.org/wiki/Roger_Federer\" >Federer Wikipedia</a>\n",
    "    <br>\n",
    "    <a href=\"https://www.rogerfederer.com/\">Federer's Website</a>\n",
    "    <img alt=\"RogerFederer\" src=\"https://i.cbc.ca/1.6055365.1622992427!/fileImage/httpImage/federer-roger-210605-1180.jpg\" width=\"1180\" height=\"664\">\n",
    "<div>\n",
    "\n",
    "\n",
    "\n"
   ]
  },
  {
   "cell_type": "markdown",
   "metadata": {},
   "source": [
    "\n",
    "# How does HTML work?\n",
    "Similar function to Markdown, syntax defines how stuff should be displayed\n",
    "- HTML is based on beginning and closing tags `<tagname>content</tagname>`\n",
    "  - Note the \"/\" on the ending or closing tag of the pair"
   ]
  },
  {
   "cell_type": "markdown",
   "metadata": {},
   "source": [
    "## Compare markdown to html below\n",
    "This below example shows comparison of a [heading](https://www.w3schools.com/html/html_headings.asp) and [paragraph](https://www.w3schools.com/html/html_paragraphs.asp).  Click on links to see many more HTML examples."
   ]
  },
  {
   "cell_type": "code",
   "execution_count": 8,
   "metadata": {},
   "outputs": [
    {
     "data": {
      "text/markdown": [
       "\n",
       "### Markdown: This is a Heading\n",
       "\n",
       "This is a paragraph\n"
      ],
      "text/plain": [
       "<IPython.core.display.Markdown object>"
      ]
     },
     "metadata": {},
     "output_type": "display_data"
    }
   ],
   "source": [
    "%%markdown\n",
    "\n",
    "### Markdown: This is a Heading\n",
    "\n",
    "This is a paragraph\n"
   ]
  },
  {
   "cell_type": "code",
   "execution_count": 9,
   "metadata": {
    "vscode": {
     "languageId": "html"
    }
   },
   "outputs": [
    {
     "data": {
      "text/html": [
       "\n",
       "<h3>HTML: This is a Heading</h3>\n",
       "<p>This is a paragraph.</p>\n"
      ],
      "text/plain": [
       "<IPython.core.display.HTML object>"
      ]
     },
     "metadata": {},
     "output_type": "display_data"
    }
   ],
   "source": [
    "%%html\n",
    "\n",
    "<h3>HTML: This is a Heading</h3>\n",
    "<p>This is a paragraph.</p>"
   ]
  },
  {
   "cell_type": "markdown",
   "metadata": {},
   "source": [
    "# Attributes\n",
    "- Learn about [attributes](https://www.w3schools.com/html/html_attributes.asp) \n",
    "- Tags can have additional info in the form of attributes\n",
    "- Attributes usually come in name/value pairs like: name=\"value\"\n",
    "\n",
    "```html\n",
    "<tagname attribute_name=\"attribute_value\" another_attribute=\"another_value\">inner html text</tagname>\n",
    "```\n",
    "\n",
    "- href example with attribute for web link and inner html to describe link\n",
    "\n",
    "```html\n",
    "<a href=\"https://www.w3schools.com/html/default.asp\">Visit W3Schools HTML Page</a>\n",
    "```"
   ]
  },
  {
   "cell_type": "markdown",
   "metadata": {},
   "source": [
    "## Sample Markdown vs HTML Tags\n",
    "Image Tag - Markdown\n",
    "\n",
    "```md\n",
    "![describe image](link to image)\n",
    "```\n",
    "\n",
    "Image Tag - HTML\n",
    "\n",
    "```html\n",
    "<!-- no content so no end tag, width/height is optional (in pixels) -->\n",
    "<img alt=\"describe image\" src=\"link to image\" width=\"100\" height=\"200\">\n",
    "```\n",
    "\n",
    "Link Tag - Markdown\n",
    "\n",
    "```md\n",
    "[link text](link)\n",
    "```\n",
    "\n",
    "Link Tag - HTML\n",
    "\n",
    "```html\n",
    "<a href=\"link\">link text</a>\n",
    "```\n",
    "\n",
    "Bolded Text - Markdown\n",
    "\n",
    "```md\n",
    "**Bolded Text**\n",
    "```\n",
    "\n",
    "Bolded Text - HTML\n",
    "\n",
    "```md\n",
    "<strong>Bolded Text</strong>\n",
    "```\n",
    "\n",
    "Italic Text - Markdown\n",
    "\n",
    "```md\n",
    "*Italic Text*\n",
    "```\n",
    "\n",
    "Italic Text - HTML\n",
    "\n",
    "```md\n",
    "<i>Italic Text</i>\n",
    "```"
   ]
  },
  {
   "cell_type": "markdown",
   "metadata": {},
   "source": [
    "# More tags (not really in markdown)\n",
    "P tag (just represeants a paragraph/normal text)\n",
    "\n",
    "```html\n",
    "<p>This is a paragraph</p>\n",
    "```\n",
    "\n",
    "Button\n",
    "\n",
    "```html\n",
    "<button>some button text</button>\n",
    "```\n",
    "\n",
    "Div (groups together related content)\n",
    "\n",
    "```html\n",
    "<!-- first information -->\n",
    "<div>\n",
    "    <!-- notice how tags can be put INSIDE eachother -->\n",
    "    <p>This is the first paragarph of section 1</p>\n",
    "    <p>This is the second paragraph of section 1</p>\n",
    "</div>\n",
    "\n",
    "<!-- second information -->\n",
    "<div>\n",
    "    <!-- notice how tags can be put INSIDE eachother -->\n",
    "    <p>This is the first paragarph of section 2</p>\n",
    "    <p>This is the second paragraph of section 2</p>\n",
    "</div>\n",
    "```\n",
    "\n"
   ]
  },
  {
   "cell_type": "markdown",
   "metadata": {},
   "source": [
    "# Resources\n",
    "- https://www.w3schools.com/html/default.asp\n",
    "- I will show a demo of how to find information on this website"
   ]
  },
  {
   "cell_type": "markdown",
   "metadata": {},
   "source": [
    "# HTML Hacks\n",
    "- Below is a wireframe for an HTML element you will create. A wireframe is a rough visual representation of HTML elements on a page and isn't necessarily to scale or have the exact styling that the final HTML will have. Using the syntax above, try to create an HTML snippet that corresponds to the below wireframe.\n",
    "- The \"a tags\" can contain any links that you want\n",
    "\n",
    "![wireframe for html hacks]({{ site.baseurl }}/images/wireframe.png)"
   ]
  },
  {
   "cell_type": "code",
   "execution_count": 1,
   "metadata": {
    "vscode": {
     "languageId": "html"
    }
   },
   "outputs": [
    {
     "data": {
      "text/html": [
       "\n",
       "<!-- put your HTML code in this cell, Make sure to press the Run button to see your results below -->\n"
      ],
      "text/plain": [
       "<IPython.core.display.HTML object>"
      ]
     },
     "metadata": {},
     "output_type": "display_data"
    }
   ],
   "source": [
    "%%html\n",
    "\n",
    "<!-- put your HTML code in this cell, Make sure to press the Run button to see your results below -->"
   ]
  }
 ],
 "metadata": {
  "kernelspec": {
   "display_name": "Python 3",
   "language": "python",
   "name": "python3"
  },
  "language_info": {
   "codemirror_mode": {
    "name": "ipython",
    "version": 3
   },
   "file_extension": ".py",
   "mimetype": "text/x-python",
   "name": "python",
   "nbconvert_exporter": "python",
   "pygments_lexer": "ipython3",
   "version": "3.10.12"
  },
  "orig_nbformat": 4
 },
 "nbformat": 4,
 "nbformat_minor": 2
}
