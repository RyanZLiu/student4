{
 "cells": [
  {
   "cell_type": "markdown",
   "metadata": {},
   "source": [
    "---\n",
    "toc: true\n",
    "comments: true\n",
    "layout: post\n",
    "title: Student Lesson Python Libraries\n",
    "description: To teach the class how to use public Python libraries around the internet\n",
    "type: hacks\n",
    "courses: { compsci: {week: 10} }\n",
    "---"
   ]
  },
  {
   "cell_type": "markdown",
   "metadata": {},
   "source": [
    "### What is a Library?\n",
    "Essentially a list of pre-written code that you can use to streamline and clean up your program.\n",
    "\n",
    "Libraries can help simplify complex programs\n",
    "\n",
    "APIS are specifications for how the procedures in a library behave, and how they can be used \n",
    "\n",
    "Documentations for an API/library is necessary in understanding the behaviors provided by the API/library and how to use them\n",
    "\n",
    "Libraries that we will go over: Requests, Pillow, Pandas, Numpy, Scikit-Learn, TensorFlow, matplotlib.\n"
   ]
  },
  {
   "cell_type": "markdown",
   "metadata": {},
   "source": [
    "### Required Installations\n",
    "Please run the following commands in your vscode terminal in order to continue the lesson\n",
    "- pip install numpy\n",
    "- pip install matplotlib\n",
    "- pip install scikit-learn\n",
    "- pip install pillow\n",
    "- pip install pandas\n",
    "- pip install tensorflow\n",
    "- pip install requests"
   ]
  },
  {
   "cell_type": "markdown",
   "metadata": {},
   "source": [
    "### Images using requests and pillow libraries\n",
    "'Requests' is focused on handling HTTP requests and web data while 'Pillow' is designed for data manipulation and analysis\n",
    "It's common to see them used together in data-related assignments where data is fetched by HTTP requests using Requests and then processed and analyzed with Pandas.\n",
    "\n",
    "Here's an example:"
   ]
  },
  {
   "cell_type": "code",
   "execution_count": 1,
   "metadata": {},
   "outputs": [
    {
     "name": "stdout",
     "output_type": "stream",
     "text": [
      "Failed to download image. Status code: 404\n"
     ]
    }
   ],
   "source": [
    "import requests\n",
    "from PIL import Image\n",
    "from io import BytesIO\n",
    "\n",
    "# Step 1: Download an image using Requests\n",
    "image_url = \"https://example.com/path/to/your/image.jpg\"  # Replace with the actual URL of the image you want to download\n",
    "response = requests.get(image_url)\n",
    "\n",
    "if response.status_code == 200:\n",
    "    # Step 2: Process the downloaded image using Pillow\n",
    "    image_data = BytesIO(response.content)  # Create an in-memory binary stream from the response content\n",
    "    img = Image.open(image_data)  # Open the image using Pillow\n",
    "\n",
    "    # Perform image processing tasks here, like resizing or applying filters\n",
    "    img = img.resize((x, y))  # Resize the image and replace x,y with desired amounts\n",
    "\n",
    "    # Step 3: Save the processed image using Pillow\n",
    "    img.save(\"processed_image.jpg\")  # Save the processed image to a file\n",
    "\n",
    "    print(\"Image downloaded, processed, and saved.\")\n",
    "else:\n",
    "    print(f\"Failed to download image. Status code: {response.status_code}\")\n"
   ]
  },
  {
   "cell_type": "markdown",
   "metadata": {},
   "source": [
    "In this code, we use the Requests library to download an image from a URL and then if the download is successful the HTTP status code 200 will pop up, and from there we create an in-memory binary stream (BytesIO) from the response content. We then use the Pillow library to open the image, make any necessary changes, and save the processed image to a file.\n",
    "\n",
    "Here's a step by step tutorial on how we wrote this code: \n",
    "1)We started by importing the necessary libraries, which were Requests, Pillow, and io.\n",
    "\n",
    "2)Download the Image\n",
    "\n",
    "3)Use the Requests library to send an HTTP GET request to the URL to download the image.\n",
    "Check the response status code to make sure the download goes through(status code 200).\n",
    "\n",
    "4)If the download is successful, create an in-memory binary stream (BytesIO) from the response content.\n",
    "Process the Image:\n",
    "\n",
    "5)Utilize the Pillow library to open the image from the binary stream.\n",
    "Change photo to desired preference(ie: size)\n",
    "Save the Processed Image:\n",
    "\n",
    "6)Save the processed image to a file using Pillow. Choose a filename and file format for the saved image.\n",
    "\n",
    "\n"
   ]
  },
  {
   "cell_type": "markdown",
   "metadata": {},
   "source": [
    "### Hack 1"
   ]
  },
  {
   "cell_type": "markdown",
   "metadata": {},
   "source": [
    "Write a Python code that accomplishes the following tasks:\n",
    "\n",
    "Downloads an image from a specified URL using the Requests library.\n",
    "Processes the downloaded image (like resizing) using the Pillow library.\n",
    "Save the processed image to a file.\n"
   ]
  },
  {
   "cell_type": "code",
   "execution_count": 9,
   "metadata": {},
   "outputs": [
    {
     "name": "stdout",
     "output_type": "stream",
     "text": [
      "Image downloaded, processed, and saved.\n"
     ]
    }
   ],
   "source": [
    "import requests\n",
    "from PIL import Image\n",
    "from io import BytesIO\n",
    "\n",
    "# Step 1: Download an image using Requests\n",
    "image_url = \"https://th-thumbnailer.cdn-si-edu.com/wDCKX3gxut2u6NOg4zAx43fjZkk=/800x600/https://tf-cmsv2-smithsonianmag-media.s3.amazonaws.com/filer/Design-Decoded-Smiley-Face-631%20copy.jpg\"  # Replace with the actual URL of the image you want to download\n",
    "response = requests.get(image_url)\n",
    "\n",
    "if response.status_code == 200:\n",
    "    # Step 2: Process the downloaded image using Pillow\n",
    "    image_data = BytesIO(response.content)  # Create an in-memory binary stream from the response content\n",
    "    img = Image.open(image_data)  # Open the image using Pillow\n",
    "\n",
    "    # Perform image processing tasks here, like resizing or applying filters\n",
    "    img = img.resize((200, 200))  # Resize the image and replace x,y with desired amounts\n",
    "\n",
    "    # Step 3: Save the processed image using Pillow\n",
    "    img.save(\"processed_image.jpg\")  # Save the processed image to a file\n",
    "\n",
    "    print(\"Image downloaded, processed, and saved.\")\n",
    "else:\n",
    "    print(f\"Failed to download image. Status code: {response.status_code}\")\n"
   ]
  },
  {
   "cell_type": "markdown",
   "metadata": {},
   "source": [
    "### Math Operations With Python Libraries\n",
    "Numpy(Numerical Python) is used for numerical and scientific computing. It provides tools for handling large sets of numbers, such as data tables and arrays. Numpy makes it easier and more efficient to do mathematical tasks. \n",
    "\n",
    "The Matplotlib library lets you create a visual representation of your data (graphs, charts, and etc.)"
   ]
  },
  {
   "cell_type": "markdown",
   "metadata": {},
   "source": [
    "### Example Sine Graph\n",
    "Uses numpy and matplotlib libaries"
   ]
  },
  {
   "cell_type": "code",
   "execution_count": 10,
   "metadata": {},
   "outputs": [
    {
     "data": {
      "image/png": "[encoded data removed]",
      "text/plain": [
       "<Figure size 432x288 with 1 Axes>"
      ]
     },
     "metadata": {
      "needs_background": "light"
     },
     "output_type": "display_data"
    }
   ],
   "source": [
    "import numpy as np\n",
    "import matplotlib.pyplot as plt\n",
    "\n",
    "# Generate sample data with NumPy\n",
    "x = np.linspace(0, 2 * np.pi, 100) \n",
    "# Create an array of values from 0 to 2*pi\n",
    "# 100 is included to have 100 points distributed between 0 and 2π to make graph smoother\n",
    "y = np.sin(x)\n",
    "# Compute the sine of each value\n",
    "\n",
    "# Create a simple line plot using Matplotlib\n",
    "plt.plot(x, y, label='Sine Function', color='blue', linestyle='-')  # Create the plot\n",
    "plt.title('Sine Function')  # Set the title\n",
    "plt.xlabel('x')  # Label for the x-axis\n",
    "plt.ylabel('sin(x)')  # Label for the y-axis\n",
    "plt.grid(True)  # Display a grid\n",
    "plt.legend()  # Show the legend\n",
    "plt.show()  # Display the plot\n"
   ]
  },
  {
   "cell_type": "markdown",
   "metadata": {},
   "source": [
    "### Hack 2\n",
    "Using the data from the numpy library, create a visual graph using different matplotlib functions."
   ]
  },
  {
   "cell_type": "code",
   "execution_count": 16,
   "metadata": {},
   "outputs": [
    {
     "data": {
      "image/png": "[encoded data removed]",
      "text/plain": [
       "<Figure size 432x288 with 1 Axes>"
      ]
     },
     "metadata": {
      "needs_background": "light"
     },
     "output_type": "display_data"
    }
   ],
   "source": [
    "import numpy as np\n",
    "import matplotlib.pyplot as plt\n",
    "\n",
    "# Generate data for two lines\n",
    "x = np.linspace(0, 10, 50)  # Create an array of values from 0 to 10\n",
    "y1 = 2 * x + 1  # Set of data poits\n",
    "\n",
    "# Create and display a plot using Matplotlib\n",
    "\n",
    "# your code here\n",
    "plt.plot(x, y1, label='Linear Graph', color='green', linestyle='-')  # Create the plot\n",
    "plt.title('Linear Graph')  # Set the title\n",
    "plt.xlabel('x')  # Label for the x-axis\n",
    "plt.ylabel('y')  # Label for the y-axis\n",
    "plt.grid(True)  # Display a grid\n",
    "plt.legend()  # Show the legend\n",
    "plt.show()  # Display the plot\n"
   ]
  },
  {
   "cell_type": "markdown",
   "metadata": {},
   "source": [
    "Tensor Flow is used in deep learning and neural networks, while scikit-learn is used for typical machine learning tasks. When used together, they can tackle machine learning projects. In the code below, Tensor Flow is used for model creation and training. Scikit-learn is used for data-processing and model evaluation."
   ]
  },
  {
   "cell_type": "markdown",
   "metadata": {},
   "source": [
    "## Pip install tensorflow scikit-learn"
   ]
  },
  {
   "cell_type": "code",
   "execution_count": 17,
   "metadata": {},
   "outputs": [
    {
     "name": "stderr",
     "output_type": "stream",
     "text": [
      "2023-10-26 10:24:17.527002: I tensorflow/core/util/port.cc:111] oneDNN custom operations are on. You may see slightly different numerical results due to floating-point round-off errors from different computation orders. To turn them off, set the environment variable `TF_ENABLE_ONEDNN_OPTS=0`.\n",
      "2023-10-26 10:24:17.629267: I tensorflow/tsl/cuda/cudart_stub.cc:28] Could not find cuda drivers on your machine, GPU will not be used.\n",
      "2023-10-26 10:24:18.134236: E tensorflow/compiler/xla/stream_executor/cuda/cuda_dnn.cc:9342] Unable to register cuDNN factory: Attempting to register factory for plugin cuDNN when one has already been registered\n",
      "2023-10-26 10:24:18.135055: E tensorflow/compiler/xla/stream_executor/cuda/cuda_fft.cc:609] Unable to register cuFFT factory: Attempting to register factory for plugin cuFFT when one has already been registered\n",
      "2023-10-26 10:24:18.135935: E tensorflow/compiler/xla/stream_executor/cuda/cuda_blas.cc:1518] Unable to register cuBLAS factory: Attempting to register factory for plugin cuBLAS when one has already been registered\n",
      "2023-10-26 10:24:18.456921: I tensorflow/tsl/cuda/cudart_stub.cc:28] Could not find cuda drivers on your machine, GPU will not be used.\n",
      "2023-10-26 10:24:18.459551: I tensorflow/core/platform/cpu_feature_guard.cc:182] This TensorFlow binary is optimized to use available CPU instructions in performance-critical operations.\n",
      "To enable the following instructions: AVX2 AVX512F AVX512_VNNI FMA, in other operations, rebuild TensorFlow with the appropriate compiler flags.\n",
      "2023-10-26 10:24:20.795753: W tensorflow/compiler/tf2tensorrt/utils/py_utils.cc:38] TF-TRT Warning: Could not find TensorRT\n",
      "/usr/lib/python3/dist-packages/scipy/__init__.py:146: UserWarning: A NumPy version >=1.17.3 and <1.25.0 is required for this version of SciPy (detected version 1.26.1\n",
      "  warnings.warn(f\"A NumPy version >={np_minversion} and <{np_maxversion}\"\n"
     ]
    },
    {
     "name": "stdout",
     "output_type": "stream",
     "text": [
      "Epoch 1/100\n",
      "3/3 - 1s - loss: 3.7639 - 873ms/epoch - 291ms/step\n",
      "Epoch 2/100\n",
      "3/3 - 0s - loss: 3.7522 - 22ms/epoch - 7ms/step\n",
      "Epoch 3/100\n",
      "3/3 - 0s - loss: 3.7402 - 22ms/epoch - 7ms/step\n",
      "Epoch 4/100\n",
      "3/3 - 0s - loss: 3.7286 - 17ms/epoch - 6ms/step\n",
      "Epoch 5/100\n",
      "3/3 - 0s - loss: 3.7169 - 24ms/epoch - 8ms/step\n",
      "Epoch 6/100\n",
      "3/3 - 0s - loss: 3.7052 - 22ms/epoch - 7ms/step\n",
      "Epoch 7/100\n",
      "3/3 - 0s - loss: 3.6936 - 20ms/epoch - 7ms/step\n",
      "Epoch 8/100\n",
      "3/3 - 0s - loss: 3.6819 - 24ms/epoch - 8ms/step\n",
      "Epoch 9/100\n",
      "3/3 - 0s - loss: 3.6705 - 17ms/epoch - 6ms/step\n",
      "Epoch 10/100\n",
      "3/3 - 0s - loss: 3.6589 - 22ms/epoch - 7ms/step\n",
      "Epoch 11/100\n",
      "3/3 - 0s - loss: 3.6475 - 18ms/epoch - 6ms/step\n",
      "Epoch 12/100\n",
      "3/3 - 0s - loss: 3.6360 - 18ms/epoch - 6ms/step\n",
      "Epoch 13/100\n",
      "3/3 - 0s - loss: 3.6246 - 15ms/epoch - 5ms/step\n",
      "Epoch 14/100\n",
      "3/3 - 0s - loss: 3.6131 - 20ms/epoch - 7ms/step\n",
      "Epoch 15/100\n",
      "3/3 - 0s - loss: 3.6016 - 23ms/epoch - 8ms/step\n",
      "Epoch 16/100\n",
      "3/3 - 0s - loss: 3.5905 - 13ms/epoch - 4ms/step\n",
      "Epoch 17/100\n",
      "3/3 - 0s - loss: 3.5789 - 18ms/epoch - 6ms/step\n",
      "Epoch 18/100\n",
      "3/3 - 0s - loss: 3.5674 - 17ms/epoch - 6ms/step\n",
      "Epoch 19/100\n",
      "3/3 - 0s - loss: 3.5562 - 18ms/epoch - 6ms/step\n",
      "Epoch 20/100\n",
      "3/3 - 0s - loss: 3.5448 - 13ms/epoch - 4ms/step\n",
      "Epoch 21/100\n",
      "3/3 - 0s - loss: 3.5334 - 13ms/epoch - 4ms/step\n",
      "Epoch 22/100\n",
      "3/3 - 0s - loss: 3.5222 - 16ms/epoch - 5ms/step\n",
      "Epoch 23/100\n",
      "3/3 - 0s - loss: 3.5110 - 17ms/epoch - 6ms/step\n",
      "Epoch 24/100\n",
      "3/3 - 0s - loss: 3.4999 - 17ms/epoch - 6ms/step\n",
      "Epoch 25/100\n",
      "3/3 - 0s - loss: 3.4885 - 18ms/epoch - 6ms/step\n",
      "Epoch 26/100\n",
      "3/3 - 0s - loss: 3.4774 - 15ms/epoch - 5ms/step\n",
      "Epoch 27/100\n",
      "3/3 - 0s - loss: 3.4663 - 15ms/epoch - 5ms/step\n",
      "Epoch 28/100\n",
      "3/3 - 0s - loss: 3.4555 - 12ms/epoch - 4ms/step\n",
      "Epoch 29/100\n",
      "3/3 - 0s - loss: 3.4443 - 11ms/epoch - 4ms/step\n",
      "Epoch 30/100\n",
      "3/3 - 0s - loss: 3.4333 - 11ms/epoch - 4ms/step\n",
      "Epoch 31/100\n",
      "3/3 - 0s - loss: 3.4222 - 21ms/epoch - 7ms/step\n",
      "Epoch 32/100\n",
      "3/3 - 0s - loss: 3.4112 - 12ms/epoch - 4ms/step\n",
      "Epoch 33/100\n",
      "3/3 - 0s - loss: 3.4004 - 13ms/epoch - 4ms/step\n",
      "Epoch 34/100\n",
      "3/3 - 0s - loss: 3.3895 - 13ms/epoch - 4ms/step\n",
      "Epoch 35/100\n",
      "3/3 - 0s - loss: 3.3787 - 13ms/epoch - 4ms/step\n",
      "Epoch 36/100\n",
      "3/3 - 0s - loss: 3.3680 - 18ms/epoch - 6ms/step\n",
      "Epoch 37/100\n",
      "3/3 - 0s - loss: 3.3572 - 19ms/epoch - 6ms/step\n",
      "Epoch 38/100\n",
      "3/3 - 0s - loss: 3.3464 - 28ms/epoch - 9ms/step\n",
      "Epoch 39/100\n",
      "3/3 - 0s - loss: 3.3357 - 22ms/epoch - 7ms/step\n",
      "Epoch 40/100\n",
      "3/3 - 0s - loss: 3.3253 - 26ms/epoch - 9ms/step\n",
      "Epoch 41/100\n",
      "3/3 - 0s - loss: 3.3144 - 22ms/epoch - 7ms/step\n",
      "Epoch 42/100\n",
      "3/3 - 0s - loss: 3.3039 - 17ms/epoch - 6ms/step\n",
      "Epoch 43/100\n",
      "3/3 - 0s - loss: 3.2931 - 24ms/epoch - 8ms/step\n",
      "Epoch 44/100\n",
      "3/3 - 0s - loss: 3.2826 - 20ms/epoch - 7ms/step\n",
      "Epoch 45/100\n",
      "3/3 - 0s - loss: 3.2720 - 11ms/epoch - 4ms/step\n",
      "Epoch 46/100\n",
      "3/3 - 0s - loss: 3.2615 - 17ms/epoch - 6ms/step\n",
      "Epoch 47/100\n",
      "3/3 - 0s - loss: 3.2510 - 19ms/epoch - 6ms/step\n",
      "Epoch 48/100\n",
      "3/3 - 0s - loss: 3.2406 - 15ms/epoch - 5ms/step\n",
      "Epoch 49/100\n",
      "3/3 - 0s - loss: 3.2301 - 18ms/epoch - 6ms/step\n",
      "Epoch 50/100\n",
      "3/3 - 0s - loss: 3.2197 - 27ms/epoch - 9ms/step\n",
      "Epoch 51/100\n",
      "3/3 - 0s - loss: 3.2094 - 17ms/epoch - 6ms/step\n",
      "Epoch 52/100\n",
      "3/3 - 0s - loss: 3.1989 - 19ms/epoch - 6ms/step\n",
      "Epoch 53/100\n",
      "3/3 - 0s - loss: 3.1886 - 21ms/epoch - 7ms/step\n",
      "Epoch 54/100\n",
      "3/3 - 0s - loss: 3.1782 - 18ms/epoch - 6ms/step\n",
      "Epoch 55/100\n",
      "3/3 - 0s - loss: 3.1680 - 18ms/epoch - 6ms/step\n",
      "Epoch 56/100\n",
      "3/3 - 0s - loss: 3.1576 - 19ms/epoch - 6ms/step\n",
      "Epoch 57/100\n",
      "3/3 - 0s - loss: 3.1474 - 19ms/epoch - 6ms/step\n",
      "Epoch 58/100\n",
      "3/3 - 0s - loss: 3.1372 - 18ms/epoch - 6ms/step\n",
      "Epoch 59/100\n",
      "3/3 - 0s - loss: 3.1269 - 13ms/epoch - 4ms/step\n",
      "Epoch 60/100\n",
      "3/3 - 0s - loss: 3.1167 - 15ms/epoch - 5ms/step\n",
      "Epoch 61/100\n",
      "3/3 - 0s - loss: 3.1066 - 21ms/epoch - 7ms/step\n",
      "Epoch 62/100\n",
      "3/3 - 0s - loss: 3.0964 - 24ms/epoch - 8ms/step\n",
      "Epoch 63/100\n",
      "3/3 - 0s - loss: 3.0865 - 15ms/epoch - 5ms/step\n",
      "Epoch 64/100\n",
      "3/3 - 0s - loss: 3.0763 - 21ms/epoch - 7ms/step\n",
      "Epoch 65/100\n",
      "3/3 - 0s - loss: 3.0662 - 15ms/epoch - 5ms/step\n",
      "Epoch 66/100\n",
      "3/3 - 0s - loss: 3.0561 - 16ms/epoch - 5ms/step\n",
      "Epoch 67/100\n",
      "3/3 - 0s - loss: 3.0462 - 16ms/epoch - 5ms/step\n",
      "Epoch 68/100\n",
      "3/3 - 0s - loss: 3.0363 - 19ms/epoch - 6ms/step\n",
      "Epoch 69/100\n",
      "3/3 - 0s - loss: 3.0262 - 12ms/epoch - 4ms/step\n",
      "Epoch 70/100\n",
      "3/3 - 0s - loss: 3.0163 - 19ms/epoch - 6ms/step\n",
      "Epoch 71/100\n",
      "3/3 - 0s - loss: 3.0063 - 15ms/epoch - 5ms/step\n",
      "Epoch 72/100\n",
      "3/3 - 0s - loss: 2.9964 - 16ms/epoch - 5ms/step\n",
      "Epoch 73/100\n",
      "3/3 - 0s - loss: 2.9865 - 19ms/epoch - 6ms/step\n",
      "Epoch 74/100\n",
      "3/3 - 0s - loss: 2.9767 - 24ms/epoch - 8ms/step\n",
      "Epoch 75/100\n",
      "3/3 - 0s - loss: 2.9669 - 20ms/epoch - 7ms/step\n",
      "Epoch 76/100\n",
      "3/3 - 0s - loss: 2.9570 - 19ms/epoch - 6ms/step\n",
      "Epoch 77/100\n",
      "3/3 - 0s - loss: 2.9473 - 16ms/epoch - 5ms/step\n",
      "Epoch 78/100\n",
      "3/3 - 0s - loss: 2.9375 - 16ms/epoch - 5ms/step\n",
      "Epoch 79/100\n",
      "3/3 - 0s - loss: 2.9278 - 13ms/epoch - 4ms/step\n",
      "Epoch 80/100\n",
      "3/3 - 0s - loss: 2.9182 - 12ms/epoch - 4ms/step\n",
      "Epoch 81/100\n",
      "3/3 - 0s - loss: 2.9085 - 15ms/epoch - 5ms/step\n",
      "Epoch 82/100\n",
      "3/3 - 0s - loss: 2.8989 - 20ms/epoch - 7ms/step\n",
      "Epoch 83/100\n",
      "3/3 - 0s - loss: 2.8892 - 17ms/epoch - 6ms/step\n",
      "Epoch 84/100\n",
      "3/3 - 0s - loss: 2.8796 - 17ms/epoch - 6ms/step\n",
      "Epoch 85/100\n",
      "3/3 - 0s - loss: 2.8701 - 26ms/epoch - 9ms/step\n",
      "Epoch 86/100\n",
      "3/3 - 0s - loss: 2.8605 - 17ms/epoch - 6ms/step\n",
      "Epoch 87/100\n",
      "3/3 - 0s - loss: 2.8510 - 18ms/epoch - 6ms/step\n",
      "Epoch 88/100\n",
      "3/3 - 0s - loss: 2.8417 - 19ms/epoch - 6ms/step\n",
      "Epoch 89/100\n",
      "3/3 - 0s - loss: 2.8320 - 14ms/epoch - 5ms/step\n",
      "Epoch 90/100\n",
      "3/3 - 0s - loss: 2.8227 - 23ms/epoch - 8ms/step\n",
      "Epoch 91/100\n",
      "3/3 - 0s - loss: 2.8132 - 17ms/epoch - 6ms/step\n",
      "Epoch 92/100\n",
      "3/3 - 0s - loss: 2.8038 - 21ms/epoch - 7ms/step\n",
      "Epoch 93/100\n",
      "3/3 - 0s - loss: 2.7945 - 17ms/epoch - 6ms/step\n",
      "Epoch 94/100\n",
      "3/3 - 0s - loss: 2.7851 - 18ms/epoch - 6ms/step\n",
      "Epoch 95/100\n",
      "3/3 - 0s - loss: 2.7758 - 24ms/epoch - 8ms/step\n",
      "Epoch 96/100\n",
      "3/3 - 0s - loss: 2.7664 - 12ms/epoch - 4ms/step\n",
      "Epoch 97/100\n",
      "3/3 - 0s - loss: 2.7572 - 19ms/epoch - 6ms/step\n",
      "Epoch 98/100\n",
      "3/3 - 0s - loss: 2.7479 - 11ms/epoch - 4ms/step\n",
      "Epoch 99/100\n",
      "3/3 - 0s - loss: 2.7386 - 9ms/epoch - 3ms/step\n",
      "Epoch 100/100\n",
      "3/3 - 0s - loss: 2.7294 - 10ms/epoch - 3ms/step\n",
      "1/1 [==============================] - 0s 144ms/step\n",
      "Mean Squared Error: 2.6875\n"
     ]
    }
   ],
   "source": [
    "import numpy as np\n",
    "import tensorflow as tf\n",
    "from sklearn.model_selection import train_test_split\n",
    "from sklearn.metrics import mean_squared_error\n",
    "from sklearn.preprocessing import StandardScaler\n",
    "from tensorflow import keras\n",
    "from tensorflow.keras import layers\n",
    "# Generate synthetic data\n",
    "np.random.seed(0)\n",
    "X = np.random.rand(100, 1)  # Feature\n",
    "y = 2 * X + 1 + 0.1 * np.random.randn(100, 1)  # Target variable with noise\n",
    "# Split the data into training and testing sets\n",
    "X_train, X_test, y_train, y_test = train_test_split(X, y, test_size=0.2, random_state=42)\n",
    "# Standardize the features\n",
    "scaler = StandardScaler()\n",
    "X_train = scaler.fit_transform(X_train)\n",
    "X_test = scaler.transform(X_test)\n",
    "# Create a simple linear regression model using TensorFlow and Keras\n",
    "model = keras.Sequential([\n",
    "    layers.Input(shape=(1,)),\n",
    "    layers.Dense(1)\n",
    "])\n",
    "# Compile the model\n",
    "model.compile(optimizer='adam', loss='mean_squared_error')\n",
    "# Train the model\n",
    "model.fit(X_train, y_train, epochs=100, batch_size=32, verbose=2)\n",
    "# Make predictions on the test set\n",
    "y_pred = model.predict(X_test)\n",
    "# Calculate the Mean Squared Error on the test set\n",
    "mse = mean_squared_error(y_test, y_pred)\n",
    "print(f\"Mean Squared Error: {mse:.4f}\")"
   ]
  },
  {
   "cell_type": "markdown",
   "metadata": {},
   "source": [
    "A decrease in loss and time metrics (ms/epoch and ms/step) shows the efficiency increases as the training epochs increases"
   ]
  },
  {
   "cell_type": "markdown",
   "metadata": {},
   "source": [
    "## Hack\n",
    "fill in the missing code to match the custom data set"
   ]
  },
  {
   "cell_type": "code",
   "execution_count": 21,
   "metadata": {},
   "outputs": [
    {
     "name": "stdout",
     "output_type": "stream",
     "text": [
      "Epoch 1/100\n"
     ]
    },
    {
     "ename": "ValueError",
     "evalue": "in user code:\n\n    File \"/home/ryanliu/.local/lib/python3.10/site-packages/keras/src/engine/training.py\", line 1377, in train_function  *\n        return step_function(self, iterator)\n    File \"/home/ryanliu/.local/lib/python3.10/site-packages/keras/src/engine/training.py\", line 1360, in step_function  **\n        outputs = model.distribute_strategy.run(run_step, args=(data,))\n    File \"/home/ryanliu/.local/lib/python3.10/site-packages/keras/src/engine/training.py\", line 1349, in run_step  **\n        outputs = model.train_step(data)\n    File \"/home/ryanliu/.local/lib/python3.10/site-packages/keras/src/engine/training.py\", line 1126, in train_step\n        y_pred = self(x, training=True)\n    File \"/home/ryanliu/.local/lib/python3.10/site-packages/keras/src/utils/traceback_utils.py\", line 70, in error_handler\n        raise e.with_traceback(filtered_tb) from None\n    File \"/home/ryanliu/.local/lib/python3.10/site-packages/keras/src/engine/input_spec.py\", line 280, in assert_input_compatibility\n        raise ValueError(\n\n    ValueError: Exception encountered when calling layer 'sequential_4' (type Sequential).\n    \n    Input 0 of layer \"dense_4\" is incompatible with the layer: expected axis -1 of input shape to have value 1, but received input with shape (None, 2)\n    \n    Call arguments received by layer 'sequential_4' (type Sequential):\n      • inputs=tf.Tensor(shape=(None, 2), dtype=float32)\n      • training=True\n      • mask=None\n",
     "output_type": "error",
     "traceback": [
      "\u001b[0;31m---------------------------------------------------------------------------\u001b[0m",
      "\u001b[0;31mValueError\u001b[0m                                Traceback (most recent call last)",
      "\u001b[0;32m/tmp/ipykernel_2888/2855242047.py\u001b[0m in \u001b[0;36m<module>\u001b[0;34m\u001b[0m\n\u001b[1;32m     36\u001b[0m \u001b[0;34m\u001b[0m\u001b[0m\n\u001b[1;32m     37\u001b[0m \u001b[0;31m# Train the model\u001b[0m\u001b[0;34m\u001b[0m\u001b[0;34m\u001b[0m\u001b[0m\n\u001b[0;32m---> 38\u001b[0;31m \u001b[0mmodel\u001b[0m\u001b[0;34m.\u001b[0m\u001b[0mfit\u001b[0m\u001b[0;34m(\u001b[0m\u001b[0mX_train\u001b[0m\u001b[0;34m,\u001b[0m \u001b[0my_train\u001b[0m\u001b[0;34m,\u001b[0m \u001b[0mepochs\u001b[0m\u001b[0;34m=\u001b[0m\u001b[0;36m100\u001b[0m\u001b[0;34m,\u001b[0m \u001b[0mbatch_size\u001b[0m\u001b[0;34m=\u001b[0m\u001b[0;36m32\u001b[0m\u001b[0;34m,\u001b[0m \u001b[0mverbose\u001b[0m\u001b[0;34m=\u001b[0m\u001b[0;36m2\u001b[0m\u001b[0;34m)\u001b[0m\u001b[0;34m\u001b[0m\u001b[0;34m\u001b[0m\u001b[0m\n\u001b[0m\u001b[1;32m     39\u001b[0m \u001b[0;34m\u001b[0m\u001b[0m\n\u001b[1;32m     40\u001b[0m \u001b[0;31m# Make predictions on the test set\u001b[0m\u001b[0;34m\u001b[0m\u001b[0;34m\u001b[0m\u001b[0m\n",
      "\u001b[0;32m~/.local/lib/python3.10/site-packages/keras/src/utils/traceback_utils.py\u001b[0m in \u001b[0;36merror_handler\u001b[0;34m(*args, **kwargs)\u001b[0m\n\u001b[1;32m     68\u001b[0m             \u001b[0;31m# To get the full stack trace, call:\u001b[0m\u001b[0;34m\u001b[0m\u001b[0;34m\u001b[0m\u001b[0m\n\u001b[1;32m     69\u001b[0m             \u001b[0;31m# `tf.debugging.disable_traceback_filtering()`\u001b[0m\u001b[0;34m\u001b[0m\u001b[0;34m\u001b[0m\u001b[0m\n\u001b[0;32m---> 70\u001b[0;31m             \u001b[0;32mraise\u001b[0m \u001b[0me\u001b[0m\u001b[0;34m.\u001b[0m\u001b[0mwith_traceback\u001b[0m\u001b[0;34m(\u001b[0m\u001b[0mfiltered_tb\u001b[0m\u001b[0;34m)\u001b[0m \u001b[0;32mfrom\u001b[0m \u001b[0;32mNone\u001b[0m\u001b[0;34m\u001b[0m\u001b[0;34m\u001b[0m\u001b[0m\n\u001b[0m\u001b[1;32m     71\u001b[0m         \u001b[0;32mfinally\u001b[0m\u001b[0;34m:\u001b[0m\u001b[0;34m\u001b[0m\u001b[0;34m\u001b[0m\u001b[0m\n\u001b[1;32m     72\u001b[0m             \u001b[0;32mdel\u001b[0m \u001b[0mfiltered_tb\u001b[0m\u001b[0;34m\u001b[0m\u001b[0;34m\u001b[0m\u001b[0m\n",
      "\u001b[0;32m~/.local/lib/python3.10/site-packages/keras/src/engine/training.py\u001b[0m in \u001b[0;36mtf__train_function\u001b[0;34m(iterator)\u001b[0m\n\u001b[1;32m     13\u001b[0m                 \u001b[0;32mtry\u001b[0m\u001b[0;34m:\u001b[0m\u001b[0;34m\u001b[0m\u001b[0;34m\u001b[0m\u001b[0m\n\u001b[1;32m     14\u001b[0m                     \u001b[0mdo_return\u001b[0m \u001b[0;34m=\u001b[0m \u001b[0;32mTrue\u001b[0m\u001b[0;34m\u001b[0m\u001b[0;34m\u001b[0m\u001b[0m\n\u001b[0;32m---> 15\u001b[0;31m                     \u001b[0mretval_\u001b[0m \u001b[0;34m=\u001b[0m \u001b[0mag__\u001b[0m\u001b[0;34m.\u001b[0m\u001b[0mconverted_call\u001b[0m\u001b[0;34m(\u001b[0m\u001b[0mag__\u001b[0m\u001b[0;34m.\u001b[0m\u001b[0mld\u001b[0m\u001b[0;34m(\u001b[0m\u001b[0mstep_function\u001b[0m\u001b[0;34m)\u001b[0m\u001b[0;34m,\u001b[0m \u001b[0;34m(\u001b[0m\u001b[0mag__\u001b[0m\u001b[0;34m.\u001b[0m\u001b[0mld\u001b[0m\u001b[0;34m(\u001b[0m\u001b[0mself\u001b[0m\u001b[0;34m)\u001b[0m\u001b[0;34m,\u001b[0m \u001b[0mag__\u001b[0m\u001b[0;34m.\u001b[0m\u001b[0mld\u001b[0m\u001b[0;34m(\u001b[0m\u001b[0miterator\u001b[0m\u001b[0;34m)\u001b[0m\u001b[0;34m)\u001b[0m\u001b[0;34m,\u001b[0m \u001b[0;32mNone\u001b[0m\u001b[0;34m,\u001b[0m \u001b[0mfscope\u001b[0m\u001b[0;34m)\u001b[0m\u001b[0;34m\u001b[0m\u001b[0;34m\u001b[0m\u001b[0m\n\u001b[0m\u001b[1;32m     16\u001b[0m                 \u001b[0;32mexcept\u001b[0m\u001b[0;34m:\u001b[0m\u001b[0;34m\u001b[0m\u001b[0;34m\u001b[0m\u001b[0m\n\u001b[1;32m     17\u001b[0m                     \u001b[0mdo_return\u001b[0m \u001b[0;34m=\u001b[0m \u001b[0;32mFalse\u001b[0m\u001b[0;34m\u001b[0m\u001b[0;34m\u001b[0m\u001b[0m\n",
      "\u001b[0;31mValueError\u001b[0m: in user code:\n\n    File \"/home/ryanliu/.local/lib/python3.10/site-packages/keras/src/engine/training.py\", line 1377, in train_function  *\n        return step_function(self, iterator)\n    File \"/home/ryanliu/.local/lib/python3.10/site-packages/keras/src/engine/training.py\", line 1360, in step_function  **\n        outputs = model.distribute_strategy.run(run_step, args=(data,))\n    File \"/home/ryanliu/.local/lib/python3.10/site-packages/keras/src/engine/training.py\", line 1349, in run_step  **\n        outputs = model.train_step(data)\n    File \"/home/ryanliu/.local/lib/python3.10/site-packages/keras/src/engine/training.py\", line 1126, in train_step\n        y_pred = self(x, training=True)\n    File \"/home/ryanliu/.local/lib/python3.10/site-packages/keras/src/utils/traceback_utils.py\", line 70, in error_handler\n        raise e.with_traceback(filtered_tb) from None\n    File \"/home/ryanliu/.local/lib/python3.10/site-packages/keras/src/engine/input_spec.py\", line 280, in assert_input_compatibility\n        raise ValueError(\n\n    ValueError: Exception encountered when calling layer 'sequential_4' (type Sequential).\n    \n    Input 0 of layer \"dense_4\" is incompatible with the layer: expected axis -1 of input shape to have value 1, but received input with shape (None, 2)\n    \n    Call arguments received by layer 'sequential_4' (type Sequential):\n      • inputs=tf.Tensor(shape=(None, 2), dtype=float32)\n      • training=True\n      • mask=None\n"
     ]
    }
   ],
   "source": [
    "import numpy as np\n",
    "import tensorflow as tf\n",
    "from sklearn.model_selection import train_test_split\n",
    "from sklearn.metrics import mean_squared_error\n",
    "from sklearn.preprocessing import StandardScaler\n",
    "from tensorflow import keras\n",
    "from tensorflow.keras import layers\n",
    "# Generate a custom dataset (replace this with your data loading code)\n",
    "# Synthetic data: House prices based on number of bedrooms and square footage\n",
    "np.random.seed(0)\n",
    "num_samples = 100\n",
    "bedrooms = np.random.randint(1, 5, num_samples)\n",
    "square_footage = np.random.randint(1000, 2500, num_samples)\n",
    "house_prices = 100000 + 50000 * bedrooms + 100 * square_footage + 10000 * np.random.randn(num_samples)\n",
    "# Combine features (bedrooms and square footage) into one array\n",
    "X = np.column_stack((bedrooms, square_footage))\n",
    "y = house_prices.reshape(-1, 1)\n",
    "# Split the data into training and testing sets\n",
    "X_train, X_test, y_train, y_test = train_test_split(X, y, test_size=0.2, random_state=42)\n",
    "\n",
    "# Standardize the features\n",
    "scaler = StandardScaler()\n",
    "X_train = scaler.fit_transform(X_train)\n",
    "X_test = scaler.transform(X_test)\n",
    "# Create a regression model using TensorFlow and Keras\n",
    "model = keras.Sequential([\n",
    "    layers.Input(shape=(1,)),\n",
    "    layers.Dense(1)\n",
    "])\n",
    "    # Input shape adjusted to the number of features\n",
    "     # Output layer for regression\n",
    "\n",
    "# Compile the model for regression\n",
    "  # Using MSE as the loss function\n",
    "model.compile(optimizer='adam', loss='mean_squared_error')\n",
    "\n",
    "# Train the model\n",
    "model.fit(X_train, y_train, epochs=100, batch_size=32, verbose=2)\n",
    "\n",
    "# Make predictions on the test set\n",
    "y_pred = model.predict(X_test)\n",
    "\n",
    "# Calculate the Mean Squared Error on the test set\n",
    "mse = mean_squared_error(y_test, y_pred)\n",
    "print(f\"Mean Squared Error: {mse:.4f}\")"
   ]
  },
  {
   "cell_type": "markdown",
   "metadata": {},
   "source": [
    "## HOMEWORK 1\n",
    "\n",
    "Create a GPA calculator using Pandas and Matplot libraries and make:\n",
    "1) A dataframe\n",
    "2) A specified dictionary\n",
    "3) and a print function that outputs the final GPA\n",
    "\n",
    "Extra points can be earned with creativity."
   ]
  },
  {
   "cell_type": "code",
   "execution_count": 2,
   "metadata": {},
   "outputs": [
    {
     "name": "stdout",
     "output_type": "stream",
     "text": [
      "Average GPA: 2.00\n"
     ]
    },
    {
     "data": {
      "image/png": "[encoded data removed]",
      "text/plain": [
       "<Figure size 432x288 with 1 Axes>"
      ]
     },
     "metadata": {
      "needs_background": "light"
     },
     "output_type": "display_data"
    }
   ],
   "source": [
    "import pandas as pd\n",
    "import matplotlib.pyplot as plt\n",
    "\n",
    "data = {'Course': ['Physics', 'CSP', 'History', 'English', 'Math'],\n",
    "        'Grade': ['A', 'B', 'C', 'D', 'F']}\n",
    "df = pd.DataFrame(data)\n",
    "\n",
    "gpas = {'A': 4.0, 'B': 3.0, 'C': 2.0, 'D': 1.0, 'F': 0.0}\n",
    "\n",
    "def calculate_gpa(dataframe):\n",
    "    total_weighted_points = 0\n",
    "    total_classes = 0\n",
    "\n",
    "    for index, row in dataframe.iterrows():\n",
    "        grade = row['Grade']\n",
    "\n",
    "        if grade in gpas:\n",
    "            gpa = gpas[grade]\n",
    "            total_weighted_points += gpa\n",
    "            total_classes += 1\n",
    "\n",
    "    if total_classes == 0:\n",
    "        print(\"No valid grades to calculate GPA.\")\n",
    "        return\n",
    "\n",
    "    final_gpa = total_weighted_points / total_classes\n",
    "\n",
    "    print(\"Average GPA: {:.2f}\".format(final_gpa))\n",
    "\n",
    "    plt.bar(dataframe['Course'], [gpas[grade] for grade in dataframe['Grade']], color='blue')\n",
    "    plt.title('GPA Chart')\n",
    "    plt.xlabel('Courses')\n",
    "    plt.ylabel('GPA')\n",
    "    plt.ylim(0, 4.0)\n",
    "    plt.show()\n",
    "\n",
    "calculate_gpa(df)\n"
   ]
  },
  {
   "cell_type": "markdown",
   "metadata": {},
   "source": [
    "## HOMEWORK 2\n",
    "\n",
    "Import and use the \"random\" library to generate 50 different points from the range 0-100, then display the randomized data using a scatter plot.\n",
    "\n",
    "Extra points can be earned with creativity."
   ]
  },
  {
   "cell_type": "code",
   "execution_count": 23,
   "metadata": {},
   "outputs": [
    {
     "name": "stdout",
     "output_type": "stream",
     "text": [
      "Random Data:\n",
      "     X    Y\n",
      "0   11   42\n",
      "1    1   89\n",
      "2   96   74\n",
      "3   31   95\n",
      "4    6   58\n",
      "5    9   39\n",
      "6   88   33\n",
      "7   89   98\n",
      "8   27   49\n",
      "9   51   70\n",
      "10  50   84\n",
      "11  97   16\n",
      "12  55  100\n",
      "13  63   27\n",
      "14  56   51\n",
      "15  26   55\n",
      "16  42   29\n",
      "17  34   58\n",
      "18  24   97\n",
      "19  15   93\n",
      "20  49   49\n",
      "21  63   54\n",
      "22  67   60\n",
      "23  82   88\n",
      "24  59   35\n",
      "25  42   33\n",
      "26  92  100\n",
      "27  84   76\n",
      "28  22   29\n",
      "29  68   18\n",
      "30  51   68\n",
      "31  48   77\n",
      "32  38   87\n",
      "33  94   97\n",
      "34  84   61\n",
      "35  22   36\n",
      "36   9   77\n",
      "37  44   79\n",
      "38  89   47\n",
      "39  72   29\n",
      "40  19   41\n",
      "41  60   84\n",
      "42  25   85\n",
      "43  55    4\n",
      "44  96   67\n",
      "45  35   13\n",
      "46   7   45\n",
      "47  26   64\n",
      "48  57   40\n",
      "49  59   61\n"
     ]
    },
    {
     "data": {
      "image/png": "[encoded data removed]",
      "text/plain": [
       "<Figure size 432x288 with 1 Axes>"
      ]
     },
     "metadata": {
      "needs_background": "light"
     },
     "output_type": "display_data"
    }
   ],
   "source": [
    "import pandas as pd\n",
    "import matplotlib.pyplot as plt\n",
    "import random\n",
    "\n",
    "random_data = {'X': [random.randint(0, 100) for _ in range(50)],\n",
    "               'Y': [random.randint(0, 100) for _ in range(50)]}\n",
    "random_df = pd.DataFrame(random_data)\n",
    "\n",
    "print(\"Random Data:\")\n",
    "print(random_df)\n",
    "\n",
    "plt.scatter(random_df['X'], random_df['Y'], color='red', marker='o')\n",
    "plt.title('Random Data Scatter Plot')\n",
    "plt.xlabel('X-axis')\n",
    "plt.ylabel('Y-axis')\n",
    "plt.show()\n"
   ]
  }
 ],
 "metadata": {
  "kernelspec": {
   "display_name": "Python 3",
   "language": "python",
   "name": "python3"
  },
  "language_info": {
   "codemirror_mode": {
    "name": "ipython",
    "version": 3
   },
   "file_extension": ".py",
   "mimetype": "text/x-python",
   "name": "python",
   "nbconvert_exporter": "python",
   "pygments_lexer": "ipython3",
   "version": "3.10.12"
  }
 },
 "nbformat": 4,
 "nbformat_minor": 2
}
