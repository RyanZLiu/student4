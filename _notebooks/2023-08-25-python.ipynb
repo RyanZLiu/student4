{
 "cells": [
  {
   "cell_type": "markdown",
   "metadata": {},
   "source": [
    "---\n",
    "toc: true\n",
    "comments: false\n",
    "layout: post\n",
    "title: Game of Life\n",
    "description: Grab of the Game of Life from APCSA repo.\n",
    "type: hacks\n",
    "courses: { compsci: {week: 2} }\n",
    "---"
   ]
  },
  {
   "cell_type": "code",
   "execution_count": 1,
   "metadata": {},
   "outputs": [
    {
     "name": "stdout",
     "output_type": "stream",
     "text": [
      "Correct!\n",
      "Correct!\n",
      "Correct!\n",
      "\n",
      "Quiz completed!\n",
      "Your score: 3 out of 3\n"
     ]
    }
   ],
   "source": [
    "def ask_question(question, correct_answer):\n",
    "    user_answer = input(question + \" \")\n",
    "    if user_answer.lower() == correct_answer.lower():\n",
    "        return True\n",
    "    else:\n",
    "        return False\n",
    "\n",
    "score = 0\n",
    "\n",
    "questions = [\n",
    "    (\"What command do you use to output a message?\", \"print\"),\n",
    "    (\"What code do you use to store input?\", \"variable\"),\n",
    "    (\"What code do you use to define a function?\", \"def\")\n",
    "]\n",
    "\n",
    "for question, answer in questions:\n",
    "    if ask_question(question, answer):\n",
    "        print(\"Correct!\")\n",
    "        score += 1\n",
    "    else:\n",
    "        print(\"Incorrect!\")\n",
    "\n",
    "print(\"\\nQuiz completed!\")\n",
    "print(\"Your score:\", score, \"out of\", len(questions))\n"
   ]
  }
 ],
 "metadata": {
  "kernelspec": {
   "display_name": "Python 3",
   "language": "python",
   "name": "python3"
  },
  "language_info": {
   "codemirror_mode": {
    "name": "ipython",
    "version": 3
   },
   "file_extension": ".py",
   "mimetype": "text/x-python",
   "name": "python",
   "nbconvert_exporter": "python",
   "pygments_lexer": "ipython3",
   "version": "3.10.12"
  },
  "orig_nbformat": 4
 },
 "nbformat": 4,
 "nbformat_minor": 2
}
